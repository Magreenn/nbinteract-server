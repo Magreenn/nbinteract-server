{
 "cells": [
  {
   "cell_type": "markdown",
   "metadata": {
    "toc": true
   },
   "source": [
    "<h1>Índices<span class=\"tocSkip\"></span></h1>\n",
    "<div class=\"toc\"><ul class=\"toc-item\"><li><span><a href=\"#Metodologia\" data-toc-modified-id=\"Metodologia-1\"><span class=\"toc-item-num\">1&nbsp;&nbsp;</span>Metodologia</a></span></li><li><span><a href=\"#Multiplicação-Matricial\" data-toc-modified-id=\"Multiplicação-Matricial-2\"><span class=\"toc-item-num\">2&nbsp;&nbsp;</span>Multiplicação Matricial</a></span></li><li><span><a href=\"#Pivoteamento\" data-toc-modified-id=\"Pivoteamento-3\"><span class=\"toc-item-num\">3&nbsp;&nbsp;</span>Pivoteamento</a></span></li><li><span><a href=\"#Transposição-de-Matriz\" data-toc-modified-id=\"Transposição-de-Matriz-4\"><span class=\"toc-item-num\">4&nbsp;&nbsp;</span>Transposição de Matriz</a></span></li><li><span><a href=\"#Eliminação-de-Gauss-Simples\" data-toc-modified-id=\"Eliminação-de-Gauss-Simples-5\"><span class=\"toc-item-num\">5&nbsp;&nbsp;</span>Eliminação de Gauss Simples</a></span></li><li><span><a href=\"#Eliminação-de-Gauss-com-Pivoteamento-Parcial\" data-toc-modified-id=\"Eliminação-de-Gauss-com-Pivoteamento-Parcial-6\"><span class=\"toc-item-num\">6&nbsp;&nbsp;</span>Eliminação de Gauss com Pivoteamento Parcial</a></span></li><li><span><a href=\"#Retro-Substituição\" data-toc-modified-id=\"Retro-Substituição-7\"><span class=\"toc-item-num\">7&nbsp;&nbsp;</span>Retro-Substituição</a></span></li><li><span><a href=\"#Matriz-de-Vandermonde\" data-toc-modified-id=\"Matriz-de-Vandermonde-8\"><span class=\"toc-item-num\">8&nbsp;&nbsp;</span>Matriz de Vandermonde</a></span></li><li><span><a href=\"#Coeficiente-de-Correlação-de-Pearson\" data-toc-modified-id=\"Coeficiente-de-Correlação-de-Pearson-9\"><span class=\"toc-item-num\">9&nbsp;&nbsp;</span>Coeficiente de Correlação de Pearson</a></span></li><li><span><a href=\"#Coeficiente-de-Determinação-$R^2$\" data-toc-modified-id=\"Coeficiente-de-Determinação-$R^2$-10\"><span class=\"toc-item-num\">10&nbsp;&nbsp;</span>Coeficiente de Determinação $R^2$</a></span></li><li><span><a href=\"#Função-do-Método-dos-Mínimos-Quadrados\" data-toc-modified-id=\"Função-do-Método-dos-Mínimos-Quadrados-11\"><span class=\"toc-item-num\">11&nbsp;&nbsp;</span>Função do Método dos Mínimos Quadrados</a></span></li><li><span><a href=\"#Exemplo\" data-toc-modified-id=\"Exemplo-12\"><span class=\"toc-item-num\">12&nbsp;&nbsp;</span>Exemplo</a></span><ul class=\"toc-item\"><li><span><a href=\"#Dados\" data-toc-modified-id=\"Dados-12.1\"><span class=\"toc-item-num\">12.1&nbsp;&nbsp;</span>Dados</a></span></li><li><span><a href=\"#Ajuste-de-uma-Reta\" data-toc-modified-id=\"Ajuste-de-uma-Reta-12.2\"><span class=\"toc-item-num\">12.2&nbsp;&nbsp;</span>Ajuste de uma Reta</a></span></li><li><span><a href=\"#Variando-o-Grau-do-Polinômio-Regressor\" data-toc-modified-id=\"Variando-o-Grau-do-Polinômio-Regressor-12.3\"><span class=\"toc-item-num\">12.3&nbsp;&nbsp;</span>Variando o Grau do Polinômio Regressor</a></span></li></ul></li><li><span><a href=\"#Gerador-de-Pontos\" data-toc-modified-id=\"Gerador-de-Pontos-13\"><span class=\"toc-item-num\">13&nbsp;&nbsp;</span>Gerador de Pontos</a></span><ul class=\"toc-item\"><li><span><a href=\"#Gráfico-Estático\" data-toc-modified-id=\"Gráfico-Estático-13.1\"><span class=\"toc-item-num\">13.1&nbsp;&nbsp;</span>Gráfico Estático</a></span></li><li><span><a href=\"#Gráfico-com-Rotação\" data-toc-modified-id=\"Gráfico-com-Rotação-13.2\"><span class=\"toc-item-num\">13.2&nbsp;&nbsp;</span>Gráfico com Rotação</a></span></li></ul></li><li><span><a href=\"#Conclusão\" data-toc-modified-id=\"Conclusão-14\"><span class=\"toc-item-num\">14&nbsp;&nbsp;</span>Conclusão</a></span></li></ul></div>"
   ]
  },
  {
   "cell_type": "markdown",
   "metadata": {},
   "source": [
    "<a rel=\"license\" href=\"http://creativecommons.org/licenses/by-sa/3.0/br/\"><img alt=\"Licença Creative Commons\" style=\"border-width:0\" src=\"https://i.creativecommons.org/l/by-sa/3.0/br/88x31.png\" /></a><br />Este obra está licenciado com uma Licença <a rel=\"license\" href=\"http://creativecommons.org/licenses/by-sa/3.0/br/\">Creative Commons Atribuição-CompartilhaIgual 3.0 Brasil</a>."
   ]
  },
  {
   "cell_type": "markdown",
   "metadata": {},
   "source": [
    "<img src=\"https://github.com/Magreenn/nbinteract-server/blob/main/Tecnicas/img/Logo-Poli_colorida_horizontal.png?raw=true\" width=700 />"
   ]
  },
  {
   "cell_type": "markdown",
   "metadata": {},
   "source": [
    "# Tecnicas de Programação <a class=\"tocSkip\"> </a>\n",
    "## *Algorítimo dos Mínimos Quadrados*<a class=\"tocSkip\"> </a>\n",
    "###### Aluno: João Pedro Nunes Cavalcante  DRE: 116082493 <a class=\"tocSkip\"> </a>\n",
    "---"
   ]
  },
  {
   "cell_type": "markdown",
   "metadata": {},
   "source": [
    "#### Algumas bibliotecas usadas durante esse notebook <a class=\"tocSkip\"> </a>"
   ]
  },
  {
   "cell_type": "code",
   "execution_count": 1,
   "metadata": {
    "cell_style": "center"
   },
   "outputs": [],
   "source": [
    "import numpy as np\n",
    "import math as m\n",
    "import matplotlib.pyplot as plt\n",
    "from jupyterthemes import jtplot as jt\n",
    "from ipywidgets import HBox, Label, Checkbox, IntSlider, interactive\n",
    "jt.style(theme=\"gruvboxd\")"
   ]
  },
  {
   "cell_type": "markdown",
   "metadata": {},
   "source": [
    "---"
   ]
  },
  {
   "cell_type": "markdown",
   "metadata": {},
   "source": [
    "## Metodologia\n",
    "\n",
    " No desenvolvimento deste código não será utilizado nenhuma biblioteca que de recursos de algebra linear, somente os recursos disponíveis do python. O recomendado seria utilizar a biblioteca Numpy porem para fins didáticos iremos desenvolver um algorítimo de Minimos Quadrados sem ajuda desta biblioteca, salvo agumas pontuais excessões que seram evidenciadas e explicadas o porque de sua utilização como por exemplo usada para garantir que os códigos desenvolvidos estão fazendo o que deveriam fazer."
   ]
  },
  {
   "cell_type": "markdown",
   "metadata": {},
   "source": [
    "---"
   ]
  },
  {
   "cell_type": "markdown",
   "metadata": {},
   "source": [
    "## Multiplicação Matricial\n",
    "\n",
    "Antes de começar a abordar o tema de Mínimos Quadrados, primeiro precisamos definir a operação de multiplicação matricial já que o python não tem uma operação de multiplicação entre listas. Criaremos então a seguinte função que faz esta operação."
   ]
  },
  {
   "cell_type": "code",
   "execution_count": 2,
   "metadata": {},
   "outputs": [],
   "source": [
    "def mult_matriz(A, B):\n",
    "    \"\"\"Multiplicação Matricial:\n",
    "    Esta função multiplica a matriz A[n,m] pela matriz B[m,w] retornando a matriz M[n,w]\n",
    "    :param A,B: Matrizes\n",
    "    :type A,B: list\n",
    "    :return: Matriz da multiplicação de AxB\n",
    "    :rtype: list\n",
    "    \"\"\"\n",
    "    assert len(A[0]) == len(B), \"As dimensões das matrizes não são compatíveis\"\n",
    "    # Criando uma lista de zeros com as dimensões finais da multiplicação\n",
    "    M = [[0 for j in range(len(B[0]))] for i in range(len(A))]\n",
    "    # Processo iterativo\n",
    "    for i in range(len(A)):\n",
    "        for j in range(len(B[0])):\n",
    "            for k in range(len(B)):\n",
    "                M[i][j] += A[i][k]*B[k][j]\n",
    "    return M"
   ]
  },
  {
   "cell_type": "markdown",
   "metadata": {},
   "source": [
    "###### Teste da função de multiplicação"
   ]
  },
  {
   "cell_type": "code",
   "execution_count": 3,
   "metadata": {
    "scrolled": true
   },
   "outputs": [
    {
     "name": "stdout",
     "output_type": "stream",
     "text": [
      "-------Teste-------\n",
      "[[114 160  60  27]\n",
      " [ 74  97  73  14]\n",
      " [119 157 112  23]]\n",
      "-------------------\n",
      "------Esperado------\n",
      "[[114 160  60  27]\n",
      " [ 74  97  73  14]\n",
      " [119 157 112  23]]\n",
      "--------------------\n"
     ]
    }
   ],
   "source": [
    "x = [[12, 7, 3],\n",
    "     [4, 5, 6],\n",
    "     [7, 8, 9]]\n",
    "y = [[5, 8, 1, 2],\n",
    "     [6, 7, 3, 0],\n",
    "     [4, 5, 9, 1]]\n",
    "z = mult_matriz(x, y)\n",
    "# Aqui só foi utilizado o numpy para fins de formatação da lista pro print\n",
    "print(\"-------Teste-------\", np.array(z), \"-------------------\", sep='\\n')\n",
    "print(\"------Esperado------\", np.array(x)@np.array(y), \"--------------------\", sep='\\n')"
   ]
  },
  {
   "cell_type": "markdown",
   "metadata": {},
   "source": [
    "---"
   ]
  },
  {
   "cell_type": "markdown",
   "metadata": {},
   "source": [
    "## Pivoteamento\n",
    "Desenvolveremos agora o algorítimo de pivoteamento que será utilizado no método de Eliminação de Gauss.\n",
    "\n",
    "Será feito o pivoteamento parcial do sistema já que uma implementação do pivoteamento completo não trás grandes benefícios para o tempo computacional gasto por ele. Sendo assim só haverá permutação das linhas."
   ]
  },
  {
   "cell_type": "code",
   "execution_count": 4,
   "metadata": {},
   "outputs": [],
   "source": [
    "def pivoteamento(a, b, k):\n",
    "    \"\"\"Pivoteamento:\n",
    "    Esta função escolhe,para uma coluna k, um pivô que é o maior elemento das linhas abaixo de k de maior módulo,\n",
    "    reordenando o sistema Ax=b para a linha deste elemento estar em k. \n",
    "    :param a,b: Matrizes\n",
    "    :type a,b: list\n",
    "    :param k: Coluna\n",
    "    :type k: int\n",
    "    :return: Matrizes reorganizadas A,b\n",
    "    :rtype: list\n",
    "    \"\"\"\n",
    "    A = a\n",
    "    r = A[k][k]\n",
    "    nl = k\n",
    "    for ml in range(k, len(A)):\n",
    "        if abs(A[ml][k]) > abs(r):\n",
    "            r = A[ml][k]\n",
    "            nl = ml\n",
    "    if nl != k:\n",
    "        for ml in range(k, len(A)):\n",
    "            aux = A[k][ml]\n",
    "            A[k][ml] = A[nl][ml]\n",
    "            A[nl][ml] = aux\n",
    "        aux = b[k][0]\n",
    "        b[k][0] = b[nl][0]\n",
    "        b[nl][0] = aux\n",
    "    return A, b"
   ]
  },
  {
   "cell_type": "markdown",
   "metadata": {},
   "source": [
    "---"
   ]
  },
  {
   "cell_type": "markdown",
   "metadata": {},
   "source": [
    "## Transposição de Matriz\n",
    "Definiremos agora a operação de transposição matricial já que o python não tem uma operação de transposição de listas. Criaremos então uma função que faz essa operação."
   ]
  },
  {
   "cell_type": "code",
   "execution_count": 5,
   "metadata": {},
   "outputs": [],
   "source": [
    "def transposta(A):\n",
    "    \"\"\"Transposição de Matriz:\n",
    "    Esta função transpõe a matriz A[n,m] retornando a matriz A[m,n]\n",
    "    :param A: Matrizes\n",
    "    :type A: list\n",
    "    :return: Matriz Transposta de A\n",
    "    :rtype: list\n",
    "    \"\"\"\n",
    "    return [[A[j][i] for j in range(len(A))] for i in range(len(A[0]))]"
   ]
  },
  {
   "cell_type": "markdown",
   "metadata": {},
   "source": [
    "###### Teste da Função de Transposição"
   ]
  },
  {
   "cell_type": "code",
   "execution_count": 6,
   "metadata": {},
   "outputs": [
    {
     "name": "stdout",
     "output_type": "stream",
     "text": [
      "----Teste----\n",
      "[[ 1  2  3]\n",
      " [ 2  1 -1]\n",
      " [ 1 -1 -1]]\n",
      "-------------\n",
      "---Esperado---\n",
      "[[ 1  2  3]\n",
      " [ 2  1 -1]\n",
      " [ 1 -1 -1]]\n",
      "--------------\n"
     ]
    }
   ],
   "source": [
    "x = [[1, 2, 1],\n",
    "     [2, 1, -1],\n",
    "     [3, -1, -1]]\n",
    "z = np.array(transposta(x))\n",
    "print(\"----Teste----\", np.array(z), \"-------------\", sep='\\n')\n",
    "print(\"---Esperado---\", np.array(x).T, \"--------------\", sep='\\n')"
   ]
  },
  {
   "cell_type": "markdown",
   "metadata": {},
   "source": [
    "---"
   ]
  },
  {
   "cell_type": "markdown",
   "metadata": {},
   "source": [
    "## Eliminação de Gauss Simples\n",
    " Definimos agora o Método de Eliminação de Gauss, que transforma uma sistema $Ax = b$ em um sistema $A^{'} x = b^{'}$ onde $A^{'}$ é uma matriz triângular superior. Neste método não foi utilizado nenhuma estratégia de pivoteamento."
   ]
  },
  {
   "cell_type": "code",
   "execution_count": 7,
   "metadata": {},
   "outputs": [],
   "source": [
    "def gauss_simples(a, b):\n",
    "    \"\"\"Eliminação de Gauss Simples:\n",
    "    Esta função triangulariza a matriz A[n,m], sem pivoteamento, retornando a\n",
    "    matriz triangular superior de A e seu vetor b correspondente\n",
    "    :param A,b: Matrizes\n",
    "    :type A: list\n",
    "    :return: Matriz Triangular de A; Vetor b\n",
    "    :rtype: list\n",
    "    \"\"\"\n",
    "    A = a\n",
    "    assert len(A) == len(A[0]), \"A matríz não é quadrada\"\n",
    "    lin = len(b)\n",
    "    for k in range(lin-1):\n",
    "        if A[k][k] != 0:\n",
    "            for i in range(k+1, lin):\n",
    "                m = A[i][k]/A[k][k]\n",
    "                A[i][k] = 0\n",
    "                for j in range(k+1, lin):\n",
    "                    A[i][j] -= m*A[k][j]\n",
    "                b[i][0] -= m*b[k][0]\n",
    "    return A, b"
   ]
  },
  {
   "cell_type": "markdown",
   "metadata": {},
   "source": [
    "###### Teste da Função de Eliminação de Gauss Simples"
   ]
  },
  {
   "cell_type": "code",
   "execution_count": 8,
   "metadata": {},
   "outputs": [
    {
     "name": "stdout",
     "output_type": "stream",
     "text": [
      "------Teste------\n",
      "[[ 1.  2.  1.]\n",
      " [ 0. -3. -3.]\n",
      " [ 0.  0.  3.]]\n",
      "\n",
      "[[ 3.]\n",
      " [-6.]\n",
      " [ 3.]]\n",
      "-----------------\n"
     ]
    }
   ],
   "source": [
    "a = [[1, 2, 1],\n",
    "     [2, 1, -1],\n",
    "     [3, -1, -1]]\n",
    "b = [[3], [0], [-2]]\n",
    "x, y = gauss_simples(a, b)\n",
    "print(\"------Teste------\", np.array(x), \"\", np.array(y), \"-----------------\", sep='\\n')"
   ]
  },
  {
   "cell_type": "markdown",
   "metadata": {},
   "source": [
    "---"
   ]
  },
  {
   "cell_type": "markdown",
   "metadata": {},
   "source": [
    "## Eliminação de Gauss com Pivoteamento Parcial\n",
    " Definimos agora o Método de Eliminação de Gauss que será usado para a resolução do Sistema Linear. Neste método implementamos em conjunto com o algorítimo de Eliminação de Gauss o algorítimo de Pivoteamento Parcial."
   ]
  },
  {
   "cell_type": "code",
   "execution_count": 9,
   "metadata": {},
   "outputs": [],
   "source": [
    "def gauss_piv(a, b):\n",
    "    \"\"\"Eliminação de Gauss com Pivoteamento:\n",
    "    Esta função triangulariza a matriz A[n,m], com pivoteamento, retornando a\n",
    "    matriz triangular superior de A e seu vetor b correspondente\n",
    "    :param A,b: Matrizes\n",
    "    :type A: list\n",
    "    :return: Matriz Triangular de A; Vetor b\n",
    "    :rtype: list\n",
    "    \"\"\"\n",
    "    A = a\n",
    "    assert len(A) == len(A[0]), \"A matríz não é quadrada\"\n",
    "    lin = len(A)\n",
    "    for k in range(lin):\n",
    "        A, b = pivoteamento(A, b, k)\n",
    "        if A[k][k] != 0:\n",
    "            for i in range(k+1, lin):\n",
    "                m = A[i][k]/A[k][k]\n",
    "                A[i][k] = 0\n",
    "                for j in range(k+1, lin):\n",
    "                    A[i][j] -= A[k][j]*m\n",
    "                b[i][0] -= b[k][0]*m\n",
    "    return A, b"
   ]
  },
  {
   "cell_type": "markdown",
   "metadata": {},
   "source": [
    "###### Teste da Função de Eliminação de Gauss com Pivoteamento Parcial"
   ]
  },
  {
   "cell_type": "code",
   "execution_count": 10,
   "metadata": {},
   "outputs": [
    {
     "name": "stdout",
     "output_type": "stream",
     "text": [
      "----------Teste----------\n",
      "[[ 4.     0.    -3.   ]\n",
      " [ 0.    -4.     3.25 ]\n",
      " [ 0.     0.     4.375]]\n",
      "\n",
      "[[-2.  ]\n",
      " [10.5 ]\n",
      " [ 8.75]]\n",
      "-------------------------\n"
     ]
    }
   ],
   "source": [
    "a = [[3, -4, 1],\n",
    "     [1, 2, 2],\n",
    "     [4, 0, -3]]\n",
    "b = [[9], [3], [-2]]\n",
    "x, y = gauss_piv(a, b)\n",
    "print(\"----------Teste----------\", np.array(x), \"\", np.array(y), \"-------------------------\", sep='\\n')"
   ]
  },
  {
   "cell_type": "markdown",
   "metadata": {},
   "source": [
    "---"
   ]
  },
  {
   "cell_type": "markdown",
   "metadata": {},
   "source": [
    "## Retro-Substituição"
   ]
  },
  {
   "cell_type": "code",
   "execution_count": 11,
   "metadata": {},
   "outputs": [],
   "source": [
    "def retro(A, b):\n",
    "    \"\"\"Retro Substituição:\n",
    "    Esta função resolve o sistema linear Ax=b onde A é uma matriz triangular superior,\n",
    "    retornando o vetor solução X\n",
    "    :param A,b: Matrizes\n",
    "    :type A: list\n",
    "    :return: Vetor Solução X\n",
    "    :rtype: list\n",
    "    \"\"\"\n",
    "    lin = len(b)\n",
    "    X = [[0] for i in range(len(A))]\n",
    "    X[-1][0] = b[-1][0]/A[-1][-1]\n",
    "    for k in range(lin-1, -1, -1):\n",
    "        s = 0\n",
    "        for j in range(k+1, lin):\n",
    "            s += A[k][j]*X[j][0]\n",
    "        X[k][0] = (b[k][0]-s)/A[k][k]\n",
    "    return X"
   ]
  },
  {
   "cell_type": "markdown",
   "metadata": {},
   "source": [
    "###### Teste da Função de Retro-Substituição"
   ]
  },
  {
   "cell_type": "code",
   "execution_count": 12,
   "metadata": {},
   "outputs": [
    {
     "name": "stdout",
     "output_type": "stream",
     "text": [
      "----Teste----\n",
      "[[ 1.]\n",
      " [-1.]\n",
      " [ 2.]]\n",
      "-------------\n",
      "---Esperado---\n",
      "[[ 1.]\n",
      " [-1.]\n",
      " [ 2.]]\n",
      "--------------\n"
     ]
    }
   ],
   "source": [
    "a = [[3, -4, 1],\n",
    "     [1, 2, 2],\n",
    "     [4, 0, -3]]\n",
    "b = [[9], [3], [-2]]\n",
    "x, y = gauss_piv(a, b)\n",
    "z = retro(x, y)\n",
    "print(\"----Teste----\", np.array(z), \"-------------\", sep='\\n')\n",
    "print(\"---Esperado---\", np.linalg.solve(a,b), \"--------------\", sep='\\n')"
   ]
  },
  {
   "cell_type": "markdown",
   "metadata": {},
   "source": [
    "---"
   ]
  },
  {
   "cell_type": "markdown",
   "metadata": {},
   "source": [
    "## Matriz de Vandermonde"
   ]
  },
  {
   "cell_type": "markdown",
   "metadata": {},
   "source": [
    "Para desenvolvermos os uma regressão polinomial, devemos usar como nossas bases, funções polinomiais e para isso escrevemos uma matriz de vandermond da seguinte forma:\n",
    "\n",
    "Dados:\n",
    "* $M$ pontos: $(x_0,y_0) , (x_1,y_1) , \\ldots , (x_{M-1} , y_{M-1})$\n",
    "* Queremos os valores dos polinômios de grau até $N$ nos $M$ pontos acima, para $M > N+1$:\n",
    "$$X=\\begin{bmatrix}\n",
    "1      & x_0     & x_0^2     & \\cdots & x_0^{N-1}     & x_0^N  \\\\\n",
    "1      & x_1     & x_1^2     & \\cdots & x_1^{N-1}     & x_1^N  \\\\\n",
    "\\vdots & \\vdots  & \\vdots    & \\ddots & \\vdots        & \\vdots \\\\\n",
    "1      & x_{M-1} & x_{M-1}^2 & \\cdots & x_{M-1}^{N-1} & x_{M-1}^N  \\\\\n",
    "\\end{bmatrix}$$\n",
    "\n",
    "Se $A=\\begin{bmatrix}a_0 & \\cdots & a_N\\end{bmatrix}^T$ são os coeficientes do polinômio $p$, então\n",
    "$$X\\cdot A=\\begin{bmatrix}p\\left(x_0\\right) & \\cdots & p\\left(x_{M-1}\\right)\\end{bmatrix}^T$$"
   ]
  },
  {
   "cell_type": "code",
   "execution_count": 13,
   "metadata": {},
   "outputs": [],
   "source": [
    "def vander(xs, n):\n",
    "    \"\"\"Matriz de Vandermonde:\n",
    "    Esta função cria a matriz de vandermonde para os pontos xs usando polinomios de grau n\n",
    "    :param xs: Coordenadas \"x\" dos pontos\n",
    "    :type xs: list\n",
    "    :param n: Grau do polinômio\n",
    "    :type n: int\n",
    "    :return: Matriz da Vandermonde\n",
    "    :rtype: list\n",
    "    \"\"\"\n",
    "    X = [[xs[i]**j for j in range(n+1)] for i in range(len(xs))]\n",
    "    return X"
   ]
  },
  {
   "cell_type": "markdown",
   "metadata": {},
   "source": [
    "###### Teste da Função de Vandermonde"
   ]
  },
  {
   "cell_type": "code",
   "execution_count": 14,
   "metadata": {
    "scrolled": true
   },
   "outputs": [
    {
     "name": "stdout",
     "output_type": "stream",
     "text": [
      "----Teste----\n",
      "[[ 1  2  4]\n",
      " [ 1  3  9]\n",
      " [ 1  4 16]\n",
      " [ 1  5 25]]\n",
      "-------------\n",
      "---Esperado---\n",
      "[[ 1  2  4]\n",
      " [ 1  3  9]\n",
      " [ 1  4 16]\n",
      " [ 1  5 25]]\n",
      "--------------\n"
     ]
    }
   ],
   "source": [
    "xs = [2, 3, 4, 5]\n",
    "print(\"----Teste----\", np.array(vander(xs, 2)), \"-------------\", sep='\\n')\n",
    "print(\"---Esperado---\", np.vander(xs,N=3,increasing=True), \"--------------\", sep='\\n')"
   ]
  },
  {
   "cell_type": "markdown",
   "metadata": {},
   "source": [
    "---"
   ]
  },
  {
   "cell_type": "markdown",
   "metadata": {},
   "source": [
    "## Coeficiente de Correlação de Pearson\n",
    "O Coeficiente de Correlação entre duas variáveis é dado pela seguinte fórmula:\n",
    "$$\n",
    "\\rho^2 = \\frac{ \\biggl(n \\sum\\limits_{i=1}^{n}{x_i y_i}-\\Bigl(\\sum\\limits_{i=1}^{n}{x_i} \\sum\\limits_{i=1}^{n}{y_i}\\Bigr) \\biggr)^2}{\\biggl(n \\sum\\limits_{i=1}^{n}{x_i^2} - \\Bigl(\\sum\\limits_{i=1}^{n}{x_i} \\Bigr)^2 \\biggr) \\biggl(n \\sum\\limits_{i=1}^{n}{y_i^2} - \\Bigl(\\sum\\limits_{i=1}^{n}{y_i \\Bigr)^2 \\biggr)}}\n",
    "$$\n",
    " \n",
    "De forma simplificada:\n",
    " \n",
    "$$\n",
    "\\rho^2 = \\frac{\\bigl(n S_{xy} - S_xS_y \\bigr)^2}{\\bigl(n S_{xx} - S_x^2 \\bigr)\\bigl(n S_{yy}-S_y^2 \\bigr)}\n",
    "$$\n",
    "\n",
    "Será apartir desta forma que desenvolveremos a função que calcula o coeficiente de correlação entre os pontos $(x_i,y_i)$"
   ]
  },
  {
   "cell_type": "code",
   "execution_count": 15,
   "metadata": {},
   "outputs": [],
   "source": [
    "def correlação(xs, ys):\n",
    "    \"\"\"Coeficiente de Correlação:\n",
    "    Esta função calcula o 'corrcoef' para os pontos (xi,yi) \n",
    "    :param xs,ys: Coordenadas dos pontos(xi,yi)\n",
    "    :type xs,ys: list\n",
    "    :return: corrcoef\n",
    "    :rtype: float\n",
    "    \"\"\"\n",
    "    Sx = 0\n",
    "    Sy = 0\n",
    "    Sxx = 0\n",
    "    Syy = 0\n",
    "    Sxy = 0\n",
    "    n = len(xs)\n",
    "    for k in range(n):\n",
    "        Sx += xs[k]\n",
    "        Sy += ys[k]\n",
    "        Sxx += xs[k]**2\n",
    "        Syy += ys[k]**2\n",
    "        Sxy += xs[k]*ys[k]\n",
    "    cor = ((n*Sxy - Sx*Sy)**2)/((n*Sxx-Sx**2)*(n*Syy-Sy**2))\n",
    "    return cor"
   ]
  },
  {
   "cell_type": "markdown",
   "metadata": {},
   "source": [
    "###### Teste da Função do Coeficiente de Correlação"
   ]
  },
  {
   "cell_type": "code",
   "execution_count": 16,
   "metadata": {},
   "outputs": [
    {
     "name": "stdout",
     "output_type": "stream",
     "text": [
      " rho teste    = 0.9689978370583994\n",
      " rho esperado = 0.9689978370583994\n"
     ]
    }
   ],
   "source": [
    "xs = [33, 25, 24, 18, 12, 10, 8, 4]\n",
    "ys = [30, 40, 50, 60, 70, 80, 90, 100]\n",
    "r = correlação(xs, ys)\n",
    "R = np.corrcoef(x=xs,y=ys)[0,1]**2\n",
    "print(f\" rho teste {'':3}= {r}\")\n",
    "print(f\" rho esperado = {R}\")"
   ]
  },
  {
   "cell_type": "markdown",
   "metadata": {},
   "source": [
    "---"
   ]
  },
  {
   "cell_type": "markdown",
   "metadata": {},
   "source": [
    "## Coeficiente de Determinação $R^2$ "
   ]
  },
  {
   "cell_type": "markdown",
   "metadata": {},
   "source": [
    "O Coeficiente de Determinação de uma regressão linear é dado da seguinte fórmula:\n",
    "$$\n",
    "R^2 = 1 - \\frac{\\sum\\limits_{i=1}^{n}{\\bigl(y_i - \\hat{y}_i\\bigr)^2}}{\\sum\\limits_{i=1}^{n}{\\bigl(y_i - \\bar{y}_i\\bigr)^2}}\n",
    "$$\n",
    "De forma simplificada:\n",
    "$$\n",
    "R^2 = 1 - \\frac{SQ_{res}}{SQ_{tot}}\n",
    "$$\n",
    "Será apartir dessa formula que desenvolveremos a função que calcula o coeficiente de determinação da regressão que foi feita apartir da amostra inicial."
   ]
  },
  {
   "cell_type": "code",
   "execution_count": 17,
   "metadata": {},
   "outputs": [],
   "source": [
    "def r_squared(y, yr):\n",
    "    \"\"\"Coeficiente de Determinação:\n",
    "    Esta função calcula o R² da regressão dados os pontos y a amostra\n",
    "     e os pontos yr ajustados pela reta.\n",
    "    :param y,yr: Coordenadas Y da amostra e da reta \n",
    "    :type xs,ys: list\n",
    "    :return: R²\n",
    "    :rtype: float\n",
    "    \"\"\"\n",
    "    y_med = 0\n",
    "    sq_r = 0\n",
    "    sq_t = 0\n",
    "    for k in range(len(y)):\n",
    "        y_med += y[k]\n",
    "    y_med /= len(y)\n",
    "    for i in range(len(y)):\n",
    "        sq_r += (y[i]-yr[i])**2\n",
    "        sq_t += (y[i]-y_med)**2\n",
    "    R2 = 1 - (sq_r/sq_t)\n",
    "    return R2"
   ]
  },
  {
   "cell_type": "markdown",
   "metadata": {},
   "source": [
    "---"
   ]
  },
  {
   "cell_type": "markdown",
   "metadata": {},
   "source": [
    "## Função do Método dos Mínimos Quadrados\n",
    "Agora tendo definido todas as partes que precisamos para desenvolvermos uma aplicação do Método dos Mínimos Quadrados, iremos desenvolver a função que aplica o Método dos Mínimos Quadrados aos pontos $(x_i,y_i)$ da amostra inicial, fazendo uma regressão de grau $N$.  "
   ]
  },
  {
   "cell_type": "code",
   "execution_count": 18,
   "metadata": {},
   "outputs": [],
   "source": [
    "def mmq(xs, ys, n=1, função=True):\n",
    "    \"\"\"Minimos Quadrados:\n",
    "    Esta função acha o polinômio regressor de grau n pelo método dos mínimos quadrados para os pontos (xiyi)\n",
    "    :param xs,ys: Coordenadas dos pontos(xi,yi)\n",
    "    :type xs,ys: list\n",
    "    :param n: Grau do polinômio, defaults to 1\n",
    "    :type n: int\n",
    "    :param função: Marcador para retornar ou não a Função do Polinômio Regressor, defaults to True  \n",
    "    :type função: bool\n",
    "    :return função=True: Coeficientes do Polinômio; Função do Polinômio Regressor; R²; corrcoef\n",
    "    :rtype: list; function; float; float\n",
    "    :return função=False: Coeficientes do Polinômio; Polinômio Regressor avaliado nos pontos x; R²; corrcoef\n",
    "    :rtype: list; list; float; float\n",
    "    \"\"\"\n",
    "    assert len(xs) > n+1, \"Grau muito alto para fazer uma regressão\"\n",
    "    Y = [[ys[i]] for i in range(len(ys))]\n",
    "    X = vander(xs, n)\n",
    "    X_T = transposta(X)\n",
    "    R = mult_matriz(X_T, X)\n",
    "    Z = mult_matriz(X_T, Y)\n",
    "    R_tri, Z_tri = gauss_piv(R, Z)\n",
    "    A = retro(R_tri, Z_tri)\n",
    "    corr = correlação(xs, ys)\n",
    "    coefs = [A[i][0] for i in range(len(A))]\n",
    "    func = lambda x: sum([a*x**n for (a, n) in zip(coefs, range(len(coefs)))])\n",
    "    yr_s = [func(x) for x in xs]\n",
    "    R2 = r_squared(ys, yr_s)\n",
    "    if função == False:\n",
    "        return A, yr_s, R2, corr\n",
    "    return A, func, R2, corr"
   ]
  },
  {
   "cell_type": "markdown",
   "metadata": {},
   "source": [
    "---"
   ]
  },
  {
   "cell_type": "markdown",
   "metadata": {},
   "source": [
    "## Exemplo\n",
    "Feremos aqui um exemplo para garantir que toda implementação está funcionando conforme deveria."
   ]
  },
  {
   "cell_type": "markdown",
   "metadata": {},
   "source": [
    "### Dados\n",
    "Para essa pequena demonstração usaremos os seguintes dados:"
   ]
  },
  {
   "cell_type": "code",
   "execution_count": 19,
   "metadata": {},
   "outputs": [
    {
     "name": "stdout",
     "output_type": "stream",
     "text": [
      "----Vetor Solução----\n",
      "[[ 1.65293576e+01]\n",
      " [ 4.36416645e+01]\n",
      " [-7.56186185e+00]\n",
      " [ 5.27666029e-01]\n",
      " [-1.63807980e-02]\n",
      " [ 1.85809533e-04]]\n",
      "---------------------\n",
      "O coeficiente de correlação é de 96.90%\n",
      "R² = 99.71%\n"
     ]
    }
   ],
   "source": [
    "xs1 = [33, 25, 24, 18, 12, 10, 8, 4]\n",
    "ys1 = [30, 40, 50, 60, 70, 80, 90, 100]\n",
    "A, y_s, r, corr = mmq(xs1, ys1, n=5)\n",
    "print(f\"----Vetor Solução----\")\n",
    "print(np.array(A), \"---------------------\", sep='\\n')\n",
    "print(f\"O coeficiente de correlação é de {corr:.2%}\")\n",
    "print(f\"R² = {r:.2%}\")"
   ]
  },
  {
   "cell_type": "markdown",
   "metadata": {},
   "source": [
    "### Ajuste de uma Reta"
   ]
  },
  {
   "cell_type": "code",
   "execution_count": 20,
   "metadata": {},
   "outputs": [
    {
     "data": {
      "image/png": "[encoded data removed]",
      "text/plain": [
       "<Figure size 460.8x403.2 with 1 Axes>"
      ]
     },
     "metadata": {},
     "output_type": "display_data"
    }
   ],
   "source": [
    "A, f, r, _ = mmq(xs1, ys1, n=1)  # N= Grau do polinômio regressor\n",
    "eixo = np.linspace(2, 35)\n",
    "plt.plot(eixo, f(eixo), label=f\"R² = {r:.4f}\")\n",
    "plt.scatter(xs1, ys1, color=\"Orange\")\n",
    "plt.title(f\"Regressão Linear com Polinômio de Grau 1\")\n",
    "plt.xlabel(\"Eixo X\")\n",
    "plt.ylabel(\"Eixo Y\")\n",
    "plt.legend();"
   ]
  },
  {
   "cell_type": "markdown",
   "metadata": {},
   "source": [
    "### Variando o Grau do Polinômio Regressor"
   ]
  },
  {
   "cell_type": "code",
   "execution_count": 21,
   "metadata": {
    "code_folding": [],
    "scrolled": false
   },
   "outputs": [
    {
     "data": {
      "application/vnd.jupyter.widget-view+json": {
       "model_id": "fc2582e3e0464f5b89d490b8b7bd89ba",
       "version_major": 2,
       "version_minor": 0
      },
      "text/plain": [
       "interactive(children=(IntSlider(value=1, description='Grau', layout=Layout(width='450px'), max=6, min=1), Outp…"
      ]
     },
     "metadata": {},
     "output_type": "display_data"
    }
   ],
   "source": [
    "def ft(x, y):\n",
    "    def do(Grau):\n",
    "        A, f, r, _ = mmq(x, y, n=Grau, função=True)\n",
    "        eixo = np.linspace(x[0], x[-1])\n",
    "        plt.plot(eixo, f(eixo), label=f\"R² = {r:.4f}\")\n",
    "        plt.scatter(x, y, color=\"Orange\")\n",
    "        plt.title(f\"Regressão Linear com Polinômio de Grau {Grau}\")\n",
    "        plt.xlabel(\"Eixo X\")\n",
    "        plt.ylabel(\"Eixo Y\")\n",
    "        plt.legend()\n",
    "    return do\n",
    "\n",
    "\n",
    "xs = [33, 25, 24, 18, 12, 10, 8, 4]\n",
    "ys = [30, 40, 50, 60, 70, 80, 90, 100]\n",
    "N = IntSlider(min=1, value=1, max=len(xs)-2)\n",
    "N.layout.width = \"450px\"\n",
    "interactive(ft(xs, ys), Grau=N)"
   ]
  },
  {
   "cell_type": "markdown",
   "metadata": {},
   "source": [
    "---"
   ]
  },
  {
   "cell_type": "markdown",
   "metadata": {},
   "source": [
    "## Gerador de Pontos\n",
    "Como pedido, faremos agora o exemplo onde para uma determinada função do 1º grau, teremos N pontos igualmente espaçados dentro de um intervalo, neste caso $[1,30]$ e introduziremos erros nos valores de x ou de y ou nos dois e depois aplicaremos o Método dos Mínimos Quadrados.\n",
    "\n",
    "Para isso desenvolveremos a seguinte função que vai gerar os pontos da amostra inicial."
   ]
  },
  {
   "cell_type": "code",
   "execution_count": 22,
   "metadata": {},
   "outputs": [],
   "source": [
    "def pontos(n, tetha, x_error=False, y_error=False):\n",
    "    # criando os pontos da função com angulo tetha e b=2\n",
    "    a = m.tan(m.radians(tetha))\n",
    "    xs = [x for x in np.linspace(1, 30, num=n, endpoint=True)]\n",
    "    ys = [a*x + 2 for x in xs]\n",
    "    # introduzindo erros\n",
    "    np.random.seed(4321)\n",
    "    #4 testes lógiocos (erro em x?,erro em y?): (S,S)(S,N)(N,S)(N,N)\n",
    "    if x_error and y_error is True:\n",
    "        # erro em x\n",
    "        err_x = np.random.uniform(-0.2, 0.2, n)\n",
    "        xs_e = [xs[i]*(1+err_x[i])for i in range(n)]\n",
    "        # erro em y\n",
    "        err_y = np.random.uniform(-0.2, 0.2, n)\n",
    "        ys_e = [ys[i]*(1+err_y[i]) for i in range(n)]\n",
    "        return xs, ys, xs_e, ys_e\n",
    "    if x_error is True and y_error is False:\n",
    "        # erro em x\n",
    "        err_x = np.random.uniform(-0.2, 0.2, n)\n",
    "        xs_e = [xs[i]*(1+err_x[i]) for i in range(n)]\n",
    "        return xs, ys, xs_e, ys\n",
    "    if x_error is False and y_error is True:\n",
    "        # erro em y\n",
    "        err_y = np.random.uniform(-0.2, 0.2, n)\n",
    "        ys_e = [ys[i]*(1+err_y[i]) for i in range(n)]\n",
    "        return xs, ys, xs, ys_e\n",
    "    return xs, ys, xs, ys"
   ]
  },
  {
   "cell_type": "markdown",
   "metadata": {},
   "source": [
    "### Gráfico Estático\n",
    "Para este gráfico não foi restringido a escala dos eixos, sendo assim, toda vez que mudamos os paramêtros as escalas se \"acomodam\" aos novos valores de forma a sempre manter os pontos a 45º."
   ]
  },
  {
   "cell_type": "code",
   "execution_count": 23,
   "metadata": {},
   "outputs": [
    {
     "data": {
      "application/vnd.jupyter.widget-view+json": {
       "model_id": "cd7f8af355d149738d53883ac458620d",
       "version_major": 2,
       "version_minor": 0
      },
      "text/plain": [
       "interactive(children=(IntSlider(value=10, description='Nº de Pontos', layout=Layout(width='450px'), max=20, mi…"
      ]
     },
     "metadata": {},
     "output_type": "display_data"
    }
   ],
   "source": [
    "def plot(N_pontos, angulo, Erro_X, Erro_Y):\n",
    "    xp, yp, xe, ye = pontos(N_pontos, angulo, x_error=Erro_X, y_error=Erro_Y)\n",
    "    A, f, r, _ = mmq(xe, ye, n=1)  # n = Grau do polinômio regressor\n",
    "    eixo = np.linspace(xe[0], xe[-1])\n",
    "    plt.plot(eixo, f(eixo), label=f\"R² = {r:.4f}\")\n",
    "    plt.scatter(xe, ye, color=\"Red\", label=\"Pontos com Erro\")\n",
    "    plt.scatter(xp, yp, color=\"Orange\", label=\"Pontos da Função\")\n",
    "    plt.title(f\"Regressão Linear com Polinômio de Grau 1\")\n",
    "    plt.xlabel(\"Eixo X\")\n",
    "    plt.ylabel(\"Eixo Y\")\n",
    "    plt.legend()\n",
    "\n",
    "N = IntSlider(description='Nº de Pontos',min=3, value=10, max=20)\n",
    "A = IntSlider(description='Ângulo da Reta', min=5, value=45, max=80)\n",
    "N.layout.width = \"450px\"\n",
    "A.layout.width = \"450px\"\n",
    "EX = Checkbox(False, description='Erro em X?')\n",
    "EY = Checkbox(False, description='Erro em Y?')\n",
    "interactive(plot, N_pontos=N, angulo=A, Erro_X=EX, Erro_Y=EY)"
   ]
  },
  {
   "cell_type": "markdown",
   "metadata": {},
   "source": [
    "### Gráfico com Rotação\n",
    "Para este gráfico foi restringido a escala dos eixos, sendo assim haverá a rotação da função, porem é importante avisar que é só para dar um sentimento visual que mudar o valor do ângulo altera sim o ângulo da reta com o gráfico, mas como as escalas dos eixos são diferentes o ângulo visualmente não aparenta ser o ângulo escolhido."
   ]
  },
  {
   "cell_type": "code",
   "execution_count": 24,
   "metadata": {},
   "outputs": [
    {
     "data": {
      "application/vnd.jupyter.widget-view+json": {
       "model_id": "854382608256462b8b21e9a2116f86bf",
       "version_major": 2,
       "version_minor": 0
      },
      "text/plain": [
       "interactive(children=(IntSlider(value=10, description='Nº de Pontos', layout=Layout(width='450px'), max=20, mi…"
      ]
     },
     "metadata": {},
     "output_type": "display_data"
    }
   ],
   "source": [
    "def plot(N_pontos, angulo, Erro_X, Erro_Y):\n",
    "    xp, yp, xe, ye = pontos(N_pontos, angulo, x_error=Erro_X, y_error=Erro_Y)\n",
    "    A, f, r, _ = mmq(xe, ye, n=1)  # N= Grau do polinômio regressor\n",
    "    eixo = np.linspace(xe[0], xe[-1])\n",
    "    plt.plot(eixo, f(eixo), label=f\"R² = {r:.4f}\")\n",
    "    plt.scatter(xe, ye, color=\"Red\", label=\"Pontos com Erro\")\n",
    "    plt.scatter(xp, yp, color=\"Orange\", label=\"Pontos da Função\")\n",
    "    plt.title(f\"Regressão Linear com Polinômio de Grau 1\")\n",
    "    plt.xlabel(\"Eixo X\")\n",
    "    plt.ylabel(\"Eixo Y\")\n",
    "    plt.xlim([0, 35])\n",
    "    plt.ylim([0, 180])\n",
    "    plt.legend()\n",
    "\n",
    "\n",
    "N = IntSlider(description='Nº de Pontos',min=3, value=10, max=20)\n",
    "A = IntSlider(description='Ângulo da Reta', min=5, value=45, max=80)\n",
    "N.layout.width = \"450px\"\n",
    "A.layout.width = \"450px\"\n",
    "EX = Checkbox(False, description='Erro em X?')\n",
    "EY = Checkbox(False, description='Erro em Y?')\n",
    "interactive(plot, N_pontos=N, angulo=A, Erro_X=EX, Erro_Y=EY)"
   ]
  },
  {
   "cell_type": "markdown",
   "metadata": {},
   "source": [
    "---"
   ]
  },
  {
   "cell_type": "markdown",
   "metadata": {},
   "source": [
    "## Conclusão\n",
    " Apartir do gráfico acima podemos tirar algumas conclusões sobre o erro da regressão ao se variar o ângulo da reta e as diferentes combinações de erros em x e y. Será analizado o $R^2$ como parâmetro para valorar a regressão feita.\n",
    "Podemos ver que quanto menor o ângulo da reta, ou seja quanto menor o coeficiente angular, menor será o $R^2$ sendo assim pior será a regressão.\n",
    "\n",
    "\n",
    "Podemos ver tambem que erros em y influênciam mais negativamente no $R^2$ do que erros em x, pois o método não está considerando que os dados amostrais tem erros em x. Já que o método usa dos $x_i$ para achar os $y_i$ com menor erro total, será sempre melhor o ajuste onde o erro está introduzido em x do que em y.\n",
    "\n",
    "\n",
    "E por último, ao introduzirmos erros tanto em x como em y, acabomos por deslocar os pontos de forma mais parecida com o comportamento de uma reta do que deslocamentos puramente em uma direção o que acaba contribuindo para um $R^2$ maior do que os outros dois casos."
   ]
  },
  {
   "cell_type": "markdown",
   "metadata": {},
   "source": [
    "---"
   ]
  }
 ],
 "metadata": {
  "kernelspec": {
   "display_name": "Python 3",
   "language": "python",
   "name": "python3"
  },
  "language_info": {
   "codemirror_mode": {
    "name": "ipython",
    "version": 3
   },
   "file_extension": ".py",
   "mimetype": "text/x-python",
   "name": "python",
   "nbconvert_exporter": "python",
   "pygments_lexer": "ipython3",
   "version": "3.8.5"
  },
  "latex_envs": {
   "LaTeX_envs_menu_present": true,
   "autoclose": false,
   "autocomplete": true,
   "bibliofile": "biblio.bib",
   "cite_by": "apalike",
   "current_citInitial": 1,
   "eqLabelWithNumbers": true,
   "eqNumInitial": 1,
   "hotkeys": {
    "equation": "Ctrl-E",
    "itemize": "Ctrl-I"
   },
   "labels_anchors": false,
   "latex_user_defs": false,
   "report_style_numbering": false,
   "user_envs_cfg": false
  },
  "toc": {
   "base_numbering": 1,
   "nav_menu": {},
   "number_sections": true,
   "sideBar": true,
   "skip_h1_title": true,
   "title_cell": "Índices",
   "title_sidebar": "Contents",
   "toc_cell": true,
   "toc_position": {
    "height": "47px",
    "left": "393px",
    "top": "254px",
    "width": "212px"
   },
   "toc_section_display": true,
   "toc_window_display": true
  },
  "varInspector": {
   "cols": {
    "lenName": 16,
    "lenType": 16,
    "lenVar": 40
   },
   "kernels_config": {
    "python": {
     "delete_cmd_postfix": "",
     "delete_cmd_prefix": "del ",
     "library": "var_list.py",
     "varRefreshCmd": "print(var_dic_list())"
    },
    "r": {
     "delete_cmd_postfix": ") ",
     "delete_cmd_prefix": "rm(",
     "library": "var_list.r",
     "varRefreshCmd": "cat(var_dic_list()) "
    }
   },
   "types_to_exclude": [
    "module",
    "function",
    "builtin_function_or_method",
    "instance",
    "_Feature"
   ],
   "window_display": false
  }
 },
 "nbformat": 4,
 "nbformat_minor": 4
}
